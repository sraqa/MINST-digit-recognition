{
  "cells": [
    {
      "metadata": {
        "_cell_guid": "79c7e3d0-c299-4dcb-8224-4455121ee9b0",
        "_uuid": "d629ff2d2480ee46fbb7e2d37f6b5fab8052498a",
        "trusted": true,
        "collapsed": true
      },
      "cell_type": "code",
      "source": "import numpy as np\nimport pandas as pd\nfrom sklearn.model_selection import train_test_split\n\nimport matplotlib.pyplot as plt\n%matplotlib inline\n\nfrom keras.models import Sequential\nfrom keras.layers import Dense, Dropout, Conv2D, Flatten, MaxPool2D\nfrom keras.utils import to_categorical\nfrom keras.preprocessing.image import ImageDataGenerator\n\n# ignore warnings for a cleaner presentation\nimport warnings\nwarnings.filterwarnings('ignore')",
      "execution_count": null,
      "outputs": []
    },
    {
      "metadata": {
        "trusted": true,
        "_uuid": "ffff1d13af48bf0c95b827c833e93fe2b65b6557"
      },
      "cell_type": "code",
      "source": "# import data\n\ntrain = pd.read_csv('../input/train.csv')\ntest = pd.read_csv('../input/test.csv')\n\nprint(\"The shape of train data\", train.shape)\nprint(\"The shape of the test data\", test.shape)\n",
      "execution_count": null,
      "outputs": []
    },
    {
      "metadata": {
        "trusted": true,
        "collapsed": true,
        "_uuid": "1f34c4bbac6f48270382cff85aba19c25be3acce"
      },
      "cell_type": "code",
      "source": "# the images are flattened (each row contains values for a single image)\n# we need to reshape it to get the immage matrix (grayscale pixel values in a 28 x 28 matrix)\n# but first, we seprate labels and predictors (y and x respectively)\n# and convert from Pandas dataframe into numpy matrix (that's what the .values does)\n\nX = (train.iloc[:, 1:].values).astype('float32')\ny = (train.iloc[:, 0].values).astype('int32')\nX_test = test.values.astype('float32')",
      "execution_count": null,
      "outputs": []
    },
    {
      "metadata": {
        "trusted": true,
        "collapsed": true,
        "_uuid": "36e3888fd7defc174f75f036a57450ae1acfbf7f"
      },
      "cell_type": "code",
      "source": "#reshape the matrix\nimg_rows, img_cols = 28, 28\nnum_classes = 10 # digits 0 - 9\n\nX_train = X.reshape(X.shape[0], img_rows, img_cols)\nX_test = X_test.reshape(X_test.shape[0], img_rows, img_cols)",
      "execution_count": null,
      "outputs": []
    },
    {
      "metadata": {
        "trusted": true,
        "_uuid": "e9f808c9a299c743d067eb8fef5ead5f2aa4b5f5"
      },
      "cell_type": "code",
      "source": "# plot the images for sanity check\n\nfor i in range(5, 8):\n    plt.subplot(130 + (-4+i))\n    plt.imshow(X_train[i], cmap=plt.get_cmap('gray'))\n    plt.title(y[i])\n",
      "execution_count": null,
      "outputs": []
    },
    {
      "metadata": {
        "trusted": true,
        "collapsed": true,
        "_uuid": "d0fd8b86a17edeaddbddde5c19742f833adc1f0d"
      },
      "cell_type": "code",
      "source": "# add another dimension for color channel\nX_train = X_train.reshape(X_train.shape[0], img_rows, img_cols, 1)\nX_test = X_test.reshape(X_test.shape[0], img_rows, img_cols, 1)",
      "execution_count": null,
      "outputs": []
    },
    {
      "metadata": {
        "trusted": true,
        "collapsed": true,
        "_uuid": "7445e0309b22e43ad0773f59d67dcca93df0c643"
      },
      "cell_type": "code",
      "source": "# normalize the pixel values for easier processing\nX_train = X_train / 255\nX_test = X_test / 255",
      "execution_count": null,
      "outputs": []
    },
    {
      "metadata": {
        "trusted": true,
        "collapsed": true,
        "_uuid": "89eabd482104f52b140b057b01a4b357e1f54e6e"
      },
      "cell_type": "code",
      "source": "# encode labels with one-hot encoder (convert to separate categories)\ny_train = to_categorical(y)",
      "execution_count": null,
      "outputs": []
    },
    {
      "metadata": {
        "trusted": true,
        "collapsed": true,
        "_uuid": "ae26cfb8c28a6738b92177ad1b72bca54f4f9b19"
      },
      "cell_type": "code",
      "source": "# split data into train and validation set (used only for image augmentation, otherwise done at fitting)\nX_gen, X_val, y_gen, y_val = train_test_split(X_train, y_train, test_size=0.1, random_state=42)\n\n# apply some augmentation to the images data to increase training data\ndatagen = ImageDataGenerator(rotation_range=10,\n                            zoom_range=0.1,\n                            width_shift_range=0.1,\n                            height_shift_range=0.1)\ndatagen.fit(X_gen)",
      "execution_count": null,
      "outputs": []
    },
    {
      "metadata": {
        "trusted": true,
        "_uuid": "41aab626831aa443fb682e136d0a9edf59148ffd",
        "collapsed": true
      },
      "cell_type": "code",
      "source": "# assemble the model\nmodel = Sequential()\n\nmodel.add(Conv2D(32, kernel_size=(5, 5),\n                activation='relu',\n                padding='same', # pads the \"frames\" of the image with 0's, so that convolution reaches the edges\n                input_shape=(img_rows, img_cols, 1)))\nmodel.add(Dropout(0.2))\nmodel.add(Conv2D(32, kernel_size=(5, 5),\n                padding='same',\n                activation='relu'))\nmodel.add(Dropout(0.2))\nmodel.add(Conv2D(12, kernel_size=(3, 3),\n                padding='same',\n                activation='relu'))\nmodel.add(MaxPool2D(pool_size=(2, 2)))\nmodel.add(Dropout(0.2))\n\n\nmodel.add(Conv2D(64, kernel_size=(3, 3),\n                padding='same',\n                activation='relu'))\nmodel.add(Dropout(0.2))\nmodel.add(Conv2D(64, kernel_size=(3, 3),\n                padding='same',\n                activation='relu'))\nmodel.add(MaxPool2D(pool_size=(2, 2), strides=(2, 2)))\nmodel.add(Dropout(0.2))\n\nmodel.add(Flatten())\nmodel.add(Dense(256, activation='relu'))\nmodel.add(Dropout(0.5))\nmodel.add(Dense(10, activation='softmax'))",
      "execution_count": null,
      "outputs": []
    },
    {
      "metadata": {
        "trusted": true,
        "collapsed": true,
        "_uuid": "117c62120b012dc07340b6a4a1dd1789e46299d9"
      },
      "cell_type": "code",
      "source": "# compile the model\nmodel.compile(loss='categorical_crossentropy',\n             optimizer='adam',\n             metrics=['accuracy'])",
      "execution_count": null,
      "outputs": []
    },
    {
      "metadata": {
        "trusted": true,
        "_uuid": "e1a666c88de98defe57e2c2a166d247ae12a10dd",
        "scrolled": false
      },
      "cell_type": "code",
      "source": "# train the model\n#model.fit(X_train, y_train,\n#         batch_size=420,\n#         epochs=20,\n#         validation_split=0.2)\n\nmodel.fit_generator(datagen.flow(X_gen, y_gen, batch_size=420),\n                   epochs=20,\n                   validation_data=(X_val, y_val))",
      "execution_count": null,
      "outputs": []
    },
    {
      "metadata": {
        "trusted": true,
        "collapsed": true,
        "_uuid": "b7e4af789494926f57b3b812b029fd63dc57c966"
      },
      "cell_type": "code",
      "source": "# make predictions\npreds = model.predict_classes(X_test)",
      "execution_count": null,
      "outputs": []
    },
    {
      "metadata": {
        "trusted": true,
        "_uuid": "fdbffcb3b5781324b5470d74c0aaf1a85b510687",
        "collapsed": true
      },
      "cell_type": "code",
      "source": "# save prediction into a Pandas dataframe and save it to .csv\nsubmission = pd.DataFrame({'ImageId': list(range(1, len(preds)+1)), 'Label': preds})",
      "execution_count": null,
      "outputs": []
    },
    {
      "metadata": {
        "trusted": true,
        "_uuid": "033e2fdb4ff1ea0a990406cae49a8c30624e9b2f",
        "collapsed": true
      },
      "cell_type": "code",
      "source": "submission.to_csv('submission.csv', index=False)",
      "execution_count": null,
      "outputs": []
    },
    {
      "metadata": {
        "trusted": true,
        "collapsed": true,
        "_uuid": "d2e46408401444f23659d438ff8e0de74c93d31e"
      },
      "cell_type": "code",
      "source": "",
      "execution_count": null,
      "outputs": []
    }
  ],
  "metadata": {
    "kernelspec": {
      "display_name": "Python 3",
      "language": "python",
      "name": "python3"
    },
    "language_info": {
      "name": "python",
      "version": "3.6.6",
      "mimetype": "text/x-python",
      "codemirror_mode": {
        "name": "ipython",
        "version": 3
      },
      "pygments_lexer": "ipython3",
      "nbconvert_exporter": "python",
      "file_extension": ".py"
    }
  },
  "nbformat": 4,
  "nbformat_minor": 1
}